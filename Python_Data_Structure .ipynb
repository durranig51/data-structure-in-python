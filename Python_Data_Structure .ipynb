{
 "cells": [
  {
   "cell_type": "markdown",
   "id": "3df4f23b",
   "metadata": {},
   "source": [
    "# data structures ----> data storing containers\n",
    "1.lists  --->mutable-->changeable-->can be deleted elemnets[]\n",
    "2.tuple ---->immutable()\n",
    "3.distionaries--- mutable{}\n",
    "4.sets --->immutable{}\n",
    "5.Strings----> immuatble  \"Anwar\", \"Text\"\n",
    "\n",
    "1.lists:\n",
    "data structures ----> data storing containers\n",
    "1.lists  --->mutable-->changeable-->can be deleted elemnets\n",
    "2.tuple ---->immutable\n",
    "3.distionaries--- mutable\n",
    "4.sets --->mutable\n",
    "5.Strings----> immuatble\n",
    "\n",
    "1.lists:\n",
    "lst=[1,'str',3]  --->0,1,2\n",
    "#how to access elements\n",
    "#slicing can be done using indexing\n",
    "print(lst[0])\n",
    "print(lst[0:2])\n",
    "print(lst[-1])\n",
    "print(lst[-3:-1])"
   ]
  },
  {
   "cell_type": "code",
   "execution_count": 21,
   "id": "3eb7279b",
   "metadata": {},
   "outputs": [
    {
     "name": "stdout",
     "output_type": "stream",
     "text": [
      "13\n",
      "str\n",
      "[13, 'str', 3]\n",
      "11\n",
      "['str', 3]\n",
      "<class 'list'>\n"
     ]
    }
   ],
   "source": [
    "lst=[1,'str',3,11] # --->0,1,2 square bracket \n",
    "#how to access elements\n",
    "#slicing can be done using indexing\n",
    "# In posetive indexing start by zero, and by default last(element) eliminate, \n",
    "# In negative indexing starty by -1, and by default -1(element) eliminate,\n",
    "# we put element in list with [] square bracket \n",
    "\n",
    "lst[0] = 13\n",
    "print(lst[0])\n",
    "print(lst[1])\n",
    "print(lst[0:3])\n",
    "print(lst[-1])\n",
    "print(lst[-3:-1])\n",
    "print(type(lst))   "
   ]
  },
  {
   "cell_type": "code",
   "execution_count": 6,
   "id": "ca4c3b97",
   "metadata": {},
   "outputs": [
    {
     "name": "stdout",
     "output_type": "stream",
     "text": [
      "1\n",
      "(1, 'str')\n",
      "3\n",
      "(1, 'str')\n"
     ]
    }
   ],
   "source": [
    "Tuple=(1,'str',3) # --->0,1,2\n",
    "#how to access elements\n",
    "#slicing can be done using indexing \n",
    "print(Tuple[0])\n",
    "print(Tuple[0:2])\n",
    "print(Tuple[-1])\n",
    "print(Tuple[-3:-1])"
   ]
  },
  {
   "cell_type": "code",
   "execution_count": 7,
   "id": "bc64d4a6",
   "metadata": {},
   "outputs": [
    {
     "ename": "TypeError",
     "evalue": "'tuple' object does not support item assignment",
     "output_type": "error",
     "traceback": [
      "\u001b[1;31m---------------------------------------------------------------------------\u001b[0m",
      "\u001b[1;31mTypeError\u001b[0m                                 Traceback (most recent call last)",
      "Cell \u001b[1;32mIn[7], line 4\u001b[0m\n\u001b[0;32m      1\u001b[0m Tuple\u001b[38;5;241m=\u001b[39m(\u001b[38;5;241m1\u001b[39m,\u001b[38;5;124m'\u001b[39m\u001b[38;5;124mstr\u001b[39m\u001b[38;5;124m'\u001b[39m,\u001b[38;5;241m3\u001b[39m) \u001b[38;5;66;03m# --->0,1,2\u001b[39;00m\n\u001b[0;32m      2\u001b[0m \u001b[38;5;66;03m#how to access elements\u001b[39;00m\n\u001b[0;32m      3\u001b[0m \u001b[38;5;66;03m#slicing can be done using indexing\u001b[39;00m\n\u001b[1;32m----> 4\u001b[0m Tuple[\u001b[38;5;241m1\u001b[39m] \u001b[38;5;241m=\u001b[39m \u001b[38;5;241m2\u001b[39m  \n\u001b[0;32m      5\u001b[0m \u001b[38;5;28mprint\u001b[39m(Tuple[\u001b[38;5;241m0\u001b[39m])\n\u001b[0;32m      6\u001b[0m \u001b[38;5;28mprint\u001b[39m(Tuple[\u001b[38;5;241m0\u001b[39m:\u001b[38;5;241m2\u001b[39m])\n",
      "\u001b[1;31mTypeError\u001b[0m: 'tuple' object does not support item assignment"
     ]
    }
   ],
   "source": [
    "Tuple=(1,'str',3) # --->0,1,2\n",
    "#how to access elements\n",
    "#slicing can be done using indexing\n",
    "Tuple[1] = 2  \n",
    "print(Tuple[0])\n",
    "print(Tuple[0:2])\n",
    "print(Tuple[-1])\n",
    "print(Tuple[-3:-1])"
   ]
  },
  {
   "cell_type": "code",
   "execution_count": 9,
   "id": "932ef969",
   "metadata": {},
   "outputs": [
    {
     "name": "stdout",
     "output_type": "stream",
     "text": [
      "1\n",
      "1s\n",
      "3\n",
      "tr\n"
     ]
    }
   ],
   "source": [
    "string= '1str3' # --->0,1,2\n",
    "#how to access elements\n",
    "#slicing can be done using indexing\n",
    "\n",
    "print(string[0])\n",
    "print(string[0:2])\n",
    "print(string[-1])\n",
    "print(string[-3:-1])"
   ]
  },
  {
   "cell_type": "code",
   "execution_count": 10,
   "id": "e976944e",
   "metadata": {},
   "outputs": [
    {
     "ename": "TypeError",
     "evalue": "'str' object does not support item assignment",
     "output_type": "error",
     "traceback": [
      "\u001b[1;31m---------------------------------------------------------------------------\u001b[0m",
      "\u001b[1;31mTypeError\u001b[0m                                 Traceback (most recent call last)",
      "Cell \u001b[1;32mIn[10], line 4\u001b[0m\n\u001b[0;32m      1\u001b[0m string\u001b[38;5;241m=\u001b[39m \u001b[38;5;124m'\u001b[39m\u001b[38;5;124m1str3\u001b[39m\u001b[38;5;124m'\u001b[39m \u001b[38;5;66;03m# --->0,1,2  \u001b[39;00m\n\u001b[0;32m      2\u001b[0m \u001b[38;5;66;03m#how to access elements\u001b[39;00m\n\u001b[0;32m      3\u001b[0m \u001b[38;5;66;03m#slicing can be done using indexing\u001b[39;00m\n\u001b[1;32m----> 4\u001b[0m string[\u001b[38;5;241m1\u001b[39m] \u001b[38;5;241m=\u001b[39m \u001b[38;5;241m2\u001b[39m  \n\u001b[0;32m      5\u001b[0m \u001b[38;5;28mprint\u001b[39m(string[\u001b[38;5;241m0\u001b[39m])\n\u001b[0;32m      6\u001b[0m \u001b[38;5;28mprint\u001b[39m(string[\u001b[38;5;241m0\u001b[39m:\u001b[38;5;241m2\u001b[39m])\n",
      "\u001b[1;31mTypeError\u001b[0m: 'str' object does not support item assignment"
     ]
    }
   ],
   "source": [
    "string= '1str3' # --->0,1,2  \n",
    "#how to access elements\n",
    "#slicing can be done using indexing\n",
    "string[1] = 2  \n",
    "print(string[0])\n",
    "print(string[0:2])\n",
    "print(string[-1])\n",
    "print(string[-3:-1])"
   ]
  },
  {
   "cell_type": "code",
   "execution_count": 5,
   "id": "9b005791",
   "metadata": {},
   "outputs": [
    {
     "name": "stdout",
     "output_type": "stream",
     "text": [
      "Anwar\n",
      "2\n",
      "Miss Saba\n"
     ]
    }
   ],
   "source": [
    "dic= {0:\"Anwar\",1:\"2\",2: \"Miss Saba\"} # --->0,1,2\n",
    "#how to access elements\n",
    "#slicing can not be done by using indexing  \n",
    "for i in dic:                       # for loop use for iterating the elements.\n",
    "    print(dic[i])\n"
   ]
  },
  {
   "cell_type": "code",
   "execution_count": 17,
   "id": "d4d5bd87",
   "metadata": {},
   "outputs": [
    {
     "name": "stdout",
     "output_type": "stream",
     "text": [
      "0 Anwar\n",
      "11 2\n",
      "2 Miss Saba\n"
     ]
    }
   ],
   "source": [
    "dic= {0:\"Anwar\",11:\"2\",2: \"Miss Saba\"} # --->0,1,2  The value of key in dictionary \n",
    "#how to access elements\n",
    "#slicing can not be done by using indexing  \n",
    "for i in dic:                       # for loop use for iterating the elements.\n",
    "    print(i,dic[i])"
   ]
  },
  {
   "cell_type": "code",
   "execution_count": 19,
   "id": "6f517d66",
   "metadata": {},
   "outputs": [
    {
     "name": "stdout",
     "output_type": "stream",
     "text": [
      "0\n",
      "1\n",
      "2\n",
      "karachi\n",
      "Miss Saba\n",
      "Anwar\n"
     ]
    }
   ],
   "source": [
    "Set = {0,\"Anwar\",1,2,2, \"Miss Saba\",\"karachi\"} # --->0,1,2 \n",
    "#how to access elements,Set is immutable \n",
    "#slicing can not be perform while doing operation of Set in Python.  \n",
    "for i in Set:                       # for loop use for iterating the elements.\n",
    "    print(i)"
   ]
  },
  {
   "cell_type": "code",
   "execution_count": 20,
   "id": "add4f4de",
   "metadata": {},
   "outputs": [
    {
     "name": "stdout",
     "output_type": "stream",
     "text": [
      "0\n"
     ]
    },
    {
     "ename": "TypeError",
     "evalue": "'set' object does not support item assignment",
     "output_type": "error",
     "traceback": [
      "\u001b[1;31m---------------------------------------------------------------------------\u001b[0m",
      "\u001b[1;31mTypeError\u001b[0m                                 Traceback (most recent call last)",
      "Cell \u001b[1;32mIn[20], line 6\u001b[0m\n\u001b[0;32m      4\u001b[0m \u001b[38;5;28;01mfor\u001b[39;00m i \u001b[38;5;129;01min\u001b[39;00m Set:                       \u001b[38;5;66;03m# for loop use for iterating the elements.\u001b[39;00m\n\u001b[0;32m      5\u001b[0m     \u001b[38;5;28mprint\u001b[39m(i)\n\u001b[1;32m----> 6\u001b[0m     Set[\u001b[38;5;241m0\u001b[39m]\u001b[38;5;241m=\u001b[39m\u001b[38;5;241m10\u001b[39m\n\u001b[0;32m      7\u001b[0m     \u001b[38;5;28mprint\u001b[39m(i)\n",
      "\u001b[1;31mTypeError\u001b[0m: 'set' object does not support item assignment"
     ]
    }
   ],
   "source": [
    "Set = {0,\"Anwar\",1,2,2, \"Miss Saba\",\"karachi\"} # --->0,1,2 \n",
    "#how to access elements,Set is immutable \n",
    "#slicing can not be perform while doing operation of Set in Python.  \n",
    "for i in Set:                       # for loop use for iterating the elements.\n",
    "    print(i)\n",
    "    Set[0]=10   # because Set is immutable \n",
    "    print(i)"
   ]
  },
  {
   "cell_type": "code",
   "execution_count": 35,
   "id": "337c2d48",
   "metadata": {},
   "outputs": [
    {
     "name": "stdout",
     "output_type": "stream",
     "text": [
      "<class 'list'>\n",
      "[-10, 11, 12, -13, 13, 'Anwar', 'True']\n",
      "[-10, 11, 12]\n",
      "[13, 'Anwar']\n"
     ]
    }
   ],
   "source": [
    "List = [10,11,12,-13,\"Burhan\",\"Anwar\",\"True\"]\n",
    "print(type(List))\n",
    "List[0]= -10\n",
    "List[-3]= 13\n",
    "print(List)\n",
    "print(List[0:3])\n",
    "print(List[-3:-1])"
   ]
  },
  {
   "cell_type": "code",
   "execution_count": 21,
   "id": "272700dd",
   "metadata": {},
   "outputs": [
    {
     "name": "stdout",
     "output_type": "stream",
     "text": [
      "[1, 'str', 13, 11]\n"
     ]
    }
   ],
   "source": [
    "lst=[1,'str',3,11] # --->0,1,2\n",
    "#how to access elements\n",
    "#slicing can be done using indexing\n",
    "# In posetive indexing start by zero, and by default last(element) eliminate, \n",
    "# In negative indexing starty by -1, and by default -1(element) eliminate,\n",
    "# we put element in list with [] square bracket \n",
    "\n",
    "lst[2] = 13\n",
    "print(lst)"
   ]
  },
  {
   "cell_type": "code",
   "execution_count": 1,
   "id": "dc678a02",
   "metadata": {},
   "outputs": [
    {
     "name": "stdout",
     "output_type": "stream",
     "text": [
      "str\n",
      "[1, 'str', 13]\n",
      "13\n",
      "['str', 13]\n"
     ]
    }
   ],
   "source": [
    "lst=[1,'str',3,11] # --->0,1,2\n",
    "#how to access elements\n",
    "#slicing can be done using indexing\n",
    "# In posetive indexing start by zero, and by default last(element) eliminate, \n",
    "# In negative indexing starty by -1, and by default -1(element) eliminate,\n",
    "# we put element in list with [] square bracket \n",
    "\n",
    "lst[2] = 13\n",
    "print(lst[1])\n",
    "print(lst[0:3])\n",
    "print(lst[-2])\n",
    "print(lst[-3:-1])"
   ]
  },
  {
   "cell_type": "markdown",
   "id": "22126cf0",
   "metadata": {},
   "source": [
    "# Common tasks related to data manipulation in Python include:\n",
    "\n",
    "# Data Cleaning: Removing or handling missing values, correcting errors, and ensuring data consistency.\n",
    "\n",
    "# Data Transformation: Converting data from one format to another, reshaping data, and creating new variables or features.\n",
    "\n",
    "# Data Filtering: Selecting specific rows or columns based on certain conditions.\n",
    "\n",
    "# Merging and Joining: Combining data from multiple sources based on common keys or indices.\n",
    "\n",
    "# Aggregation: Grouping and summarizing data to obtain aggregated statistics.\n",
    "\n",
    "# Sorting: Ordering data based on specific criteria.\n",
    "\n",
    "# Python provides various libraries for data manipulation, such as:\n",
    "\n",
    "# Pandas: A powerful library for data manipulation and analysis that provides data structures like DataFrame.\n",
    "\n",
    "# NumPy: A fundamental package for scientific computing with support for large, multi-dimensional arrays and matrices.\n",
    "\n",
    "# Dask: A parallel computing library that integrates with Pandas and NumPy to enable working with larger-than-memory datasets.\n"
   ]
  },
  {
   "cell_type": "code",
   "execution_count": null,
   "id": "6001a993",
   "metadata": {},
   "outputs": [],
   "source": [
    "# list \n",
    "# how can access the element \n",
    "# slicing cand be done by using indexing \n",
    "\n",
    "# INDEXING\n",
    "\n",
    "# INTEGERS = z\n",
    "\n",
    "#   -6  -5 -4 -3 -2 -1   0  +1  +2  +3  +4  +5 \n",
    "# BY DEFAULT IN POSITIVE INDEXING (ELIMINATE THE LAST INDEX ELEMENT )\n",
    "# BY DEFAULT IN NEGATIVE INDEXING (ELEMINATE THE FIRST INDEX VALUE -1, INDEX ELEMENT )"
   ]
  },
  {
   "cell_type": "code",
   "execution_count": 2,
   "id": "7651f4ec",
   "metadata": {},
   "outputs": [
    {
     "data": {
      "text/plain": [
       "list"
      ]
     },
     "execution_count": 2,
     "metadata": {},
     "output_type": "execute_result"
    }
   ],
   "source": [
    "list  MUTABLE "
   ]
  },
  {
   "cell_type": "code",
   "execution_count": 18,
   "id": "f54ed1a0",
   "metadata": {},
   "outputs": [
    {
     "name": "stdout",
     "output_type": "stream",
     "text": [
      "<class 'list'>\n",
      "[1, -2, -3, 'Burhan', 'Anwar']\n",
      "[1, -2, -3, 'Burhan', 'Anwar']\n",
      "['Burhan', 'Anwar']\n"
     ]
    }
   ],
   "source": [
    "lst = [-1,-2,-3,\"Burhan\",\"Anwar\",33,]\n",
    "print(type(lst))\n",
    "lst[0] = 1\n",
    "print(lst[-6:-1])   # by defualt (index)-1 eliminate \n",
    "print(lst[0:5])     # by default (index)5 eliminate\n",
    "print(lst[-3:-1])\n"
   ]
  },
  {
   "cell_type": "code",
   "execution_count": null,
   "id": "43bc4346",
   "metadata": {},
   "outputs": [],
   "source": [
    "HOME WORK \n",
    "# lIST (MUATABLE )\n",
    "# TUPLE (IMMUTABLE)\n",
    "# STRING (IMMUTABLE)\n",
    "# Set (immutable)\n",
    "# dictionary (mutable)"
   ]
  },
  {
   "cell_type": "code",
   "execution_count": 34,
   "id": "0aa03e84",
   "metadata": {},
   "outputs": [
    {
     "name": "stdout",
     "output_type": "stream",
     "text": [
      "<class 'tuple'>\n",
      "('Burhan', 'Pakistan')\n",
      "('Burhan', 'Pakistan')\n",
      "('Burhan', 'Pakistan', -1, True, False, 3.3, 3.3, 6.9, 6.9)\n"
     ]
    }
   ],
   "source": [
    "Tuple = (\"Burhan\",\"Pakistan\",-1,True,False,3.3,3.3,6.9,6.9)\n",
    "print(type(Tuple))\n",
    "print(Tuple[0:2])\n",
    "print(Tuple[-9:-7])\n",
    "print(Tuple)\n"
   ]
  },
  {
   "cell_type": "code",
   "execution_count": null,
   "id": "c91b3449",
   "metadata": {},
   "outputs": [],
   "source": []
  },
  {
   "cell_type": "code",
   "execution_count": 2,
   "id": "48681f79",
   "metadata": {},
   "outputs": [
    {
     "name": "stdout",
     "output_type": "stream",
     "text": [
      "<class 'tuple'>\n"
     ]
    },
    {
     "ename": "TypeError",
     "evalue": "'tuple' object does not support item assignment",
     "output_type": "error",
     "traceback": [
      "\u001b[1;31m---------------------------------------------------------------------------\u001b[0m",
      "\u001b[1;31mTypeError\u001b[0m                                 Traceback (most recent call last)",
      "Cell \u001b[1;32mIn[2], line 3\u001b[0m\n\u001b[0;32m      1\u001b[0m Tuple \u001b[38;5;241m=\u001b[39m (\u001b[38;5;124m\"\u001b[39m\u001b[38;5;124mBurhan\u001b[39m\u001b[38;5;124m\"\u001b[39m, \u001b[38;5;124m\"\u001b[39m\u001b[38;5;124mPakistan\u001b[39m\u001b[38;5;124m\"\u001b[39m,\u001b[38;5;241m-\u001b[39m\u001b[38;5;241m1\u001b[39m,\u001b[38;5;28;01mTrue\u001b[39;00m,\u001b[38;5;28;01mFalse\u001b[39;00m,\u001b[38;5;241m3.3\u001b[39m,\u001b[38;5;241m3.3\u001b[39m,\u001b[38;5;241m6.9\u001b[39m,\u001b[38;5;241m6.9\u001b[39m)\n\u001b[0;32m      2\u001b[0m \u001b[38;5;28mprint\u001b[39m(\u001b[38;5;28mtype\u001b[39m(Tuple))\n\u001b[1;32m----> 3\u001b[0m Tuple[\u001b[38;5;241m-\u001b[39m\u001b[38;5;241m1\u001b[39m] \u001b[38;5;241m=\u001b[39m \u001b[38;5;241m1\u001b[39m\n\u001b[0;32m      4\u001b[0m \u001b[38;5;28mprint\u001b[39m(Tuple)\n",
      "\u001b[1;31mTypeError\u001b[0m: 'tuple' object does not support item assignment"
     ]
    }
   ],
   "source": [
    "Tuple = (\"Burhan\", \"Pakistan\",-1,True,False,3.3,3.3,6.9,6.9)\n",
    "print(type(Tuple))\n",
    "Tuple[-1] = 1\n",
    "print(Tuple)\n"
   ]
  },
  {
   "cell_type": "code",
   "execution_count": 39,
   "id": "8943e772",
   "metadata": {},
   "outputs": [
    {
     "name": "stdout",
     "output_type": "stream",
     "text": [
      "BurhanDurrani\n",
      "<class 'str'>\n",
      "B\n",
      "i\n"
     ]
    }
   ],
   "source": [
    "string = \"BurhanDurrani\"\n",
    "print(string)\n",
    "print(type(string))\n",
    "print(string[0])\n",
    "print(string[-1])"
   ]
  },
  {
   "cell_type": "code",
   "execution_count": 37,
   "id": "7b36fb67",
   "metadata": {},
   "outputs": [
    {
     "name": "stdout",
     "output_type": "stream",
     "text": [
      "BurhanDurrani\n",
      "<class 'str'>\n"
     ]
    },
    {
     "ename": "TypeError",
     "evalue": "'str' object does not support item assignment",
     "output_type": "error",
     "traceback": [
      "\u001b[1;31m---------------------------------------------------------------------------\u001b[0m",
      "\u001b[1;31mTypeError\u001b[0m                                 Traceback (most recent call last)",
      "Cell \u001b[1;32mIn[37], line 4\u001b[0m\n\u001b[0;32m      2\u001b[0m \u001b[38;5;28mprint\u001b[39m(string)\n\u001b[0;32m      3\u001b[0m \u001b[38;5;28mprint\u001b[39m(\u001b[38;5;28mtype\u001b[39m(string))\n\u001b[1;32m----> 4\u001b[0m string[\u001b[38;5;241m0\u001b[39m] \u001b[38;5;241m=\u001b[39m \u001b[38;5;241m100\u001b[39m\n",
      "\u001b[1;31mTypeError\u001b[0m: 'str' object does not support item assignment"
     ]
    }
   ],
   "source": [
    "string = \"BurhanDurrani\"\n",
    "print(string)\n",
    "print(type(string))\n",
    "string[0] = 100"
   ]
  },
  {
   "cell_type": "code",
   "execution_count": 31,
   "id": "a243889b",
   "metadata": {},
   "outputs": [
    {
     "ename": "TypeError",
     "evalue": "'str' object is not callable",
     "output_type": "error",
     "traceback": [
      "\u001b[1;31m---------------------------------------------------------------------------\u001b[0m",
      "\u001b[1;31mTypeError\u001b[0m                                 Traceback (most recent call last)",
      "Cell \u001b[1;32mIn[31], line 2\u001b[0m\n\u001b[0;32m      1\u001b[0m bur \u001b[38;5;241m=\u001b[39m \u001b[38;5;124m'\u001b[39m\u001b[38;5;124mhjklghjkg\u001b[39m\u001b[38;5;124m'\u001b[39m\n\u001b[1;32m----> 2\u001b[0m \u001b[38;5;28mprint\u001b[39m(bur)\n",
      "\u001b[1;31mTypeError\u001b[0m: 'str' object is not callable"
     ]
    }
   ],
   "source": [
    "bur = 'hjklghjkg'\n",
    "print(bur)"
   ]
  },
  {
   "cell_type": "code",
   "execution_count": 32,
   "id": "3ae621c1",
   "metadata": {},
   "outputs": [
    {
     "ename": "TypeError",
     "evalue": "'str' object is not callable",
     "output_type": "error",
     "traceback": [
      "\u001b[1;31m---------------------------------------------------------------------------\u001b[0m",
      "\u001b[1;31mTypeError\u001b[0m                                 Traceback (most recent call last)",
      "Cell \u001b[1;32mIn[32], line 2\u001b[0m\n\u001b[0;32m      1\u001b[0m string \u001b[38;5;241m=\u001b[39m \u001b[38;5;124m\"\u001b[39m\u001b[38;5;124mBurhanDurrani\u001b[39m\u001b[38;5;124m\"\u001b[39m\n\u001b[1;32m----> 2\u001b[0m \u001b[38;5;28mprint\u001b[39m(string)\n\u001b[0;32m      3\u001b[0m \u001b[38;5;28mprint\u001b[39m(\u001b[38;5;28mtype\u001b[39m(string))\n\u001b[0;32m      4\u001b[0m \u001b[38;5;28mprint\u001b[39m(string[\u001b[38;5;241m0\u001b[39m])\n",
      "\u001b[1;31mTypeError\u001b[0m: 'str' object is not callable"
     ]
    }
   ],
   "source": [
    "string = \"BurhanDurrani\"\n",
    "print(string)\n",
    "print(type(string))\n",
    "print(string[0])\n",
    "print(string[-1])"
   ]
  },
  {
   "cell_type": "code",
   "execution_count": 1,
   "id": "5f686a6b",
   "metadata": {},
   "outputs": [
    {
     "name": "stdout",
     "output_type": "stream",
     "text": [
      "BurhanDurrani\n",
      "<class 'str'>\n",
      "B\n",
      "i\n"
     ]
    }
   ],
   "source": [
    "string = \"BurhanDurrani\"\n",
    "print(string)\n",
    "print(type(string))\n",
    "print(string[0])\n",
    "print(string[-1])"
   ]
  },
  {
   "cell_type": "code",
   "execution_count": 8,
   "id": "8e875645",
   "metadata": {},
   "outputs": [
    {
     "name": "stdout",
     "output_type": "stream",
     "text": [
      "aghaBurhan\n",
      "<class 'str'>\n",
      "aghaB\n",
      "aBurha\n"
     ]
    }
   ],
   "source": [
    "string = \"aghrhan\"\n",
    "print(string)\n",
    "print(type(string))\n",
    "# string[0] = 1\n",
    "print(string[0:5])\n",
    "print(string[-7:-1])"
   ]
  },
  {
   "cell_type": "code",
   "execution_count": 9,
   "id": "f7e8e315",
   "metadata": {},
   "outputs": [
    {
     "name": "stdout",
     "output_type": "stream",
     "text": [
      "aghabuurhan\n",
      "<class 'str'>\n",
      "a\n",
      "n\n"
     ]
    }
   ],
   "source": [
    "string = \"aghabuurhan\"\n",
    "print(string)\n",
    "print(type(string))\n",
    "print(string[0])\n",
    "print(string[-1])"
   ]
  },
  {
   "cell_type": "code",
   "execution_count": 13,
   "id": "daeab37a",
   "metadata": {},
   "outputs": [
    {
     "name": "stdout",
     "output_type": "stream",
     "text": [
      "burhan\n",
      "<class 'str'>\n",
      "bur\n"
     ]
    }
   ],
   "source": [
    "string = \"burhan\"\n",
    "print(string)\n",
    "print(type(string))\n",
    "print(string[0:3])\n"
   ]
  },
  {
   "cell_type": "code",
   "execution_count": null,
   "id": "27607415",
   "metadata": {},
   "outputs": [],
   "source": [
    "lst=[1,'str',3]\n",
    "\n",
    "lst[2] = 13\n",
    "print(lst[1])\n",
    "print(lst[0:3])\n",
    "print(lst[-2])\n",
    "print(lst[-3:-1])"
   ]
  },
  {
   "cell_type": "code",
   "execution_count": null,
   "id": "a33acc07",
   "metadata": {},
   "outputs": [],
   "source": [
    "# Practice\n",
    "# Tuple\n",
    "# String\n",
    "# List"
   ]
  },
  {
   "cell_type": "code",
   "execution_count": null,
   "id": "86887ca9",
   "metadata": {},
   "outputs": [],
   "source": [
    "# Date:8-12-2023(Friday)"
   ]
  },
  {
   "cell_type": "code",
   "execution_count": 11,
   "id": "6c841c2f",
   "metadata": {},
   "outputs": [
    {
     "name": "stdout",
     "output_type": "stream",
     "text": [
      "(4, 'str', 6, 33, 'Pakistan')\n",
      "<class 'tuple'>\n",
      "Pakistan\n",
      "(4, 'str', 6, 33, 'Pakistan')\n",
      "(4, 'str', 6, 33, 'Pakistan')\n"
     ]
    }
   ],
   "source": [
    "Tuple = (4,'str',6,33,\"Pakistan\")\n",
    "print(Tuple)\n",
    "print(type(Tuple))\n",
    "print(Tuple[-1])\n",
    "print(Tuple[0:])\n",
    "print(Tuple[0:])"
   ]
  },
  {
   "cell_type": "code",
   "execution_count": 12,
   "id": "f96fbec6",
   "metadata": {},
   "outputs": [
    {
     "name": "stdout",
     "output_type": "stream",
     "text": [
      "(4, 'str', 6)\n",
      "<class 'tuple'>\n"
     ]
    },
    {
     "ename": "TypeError",
     "evalue": "'tuple' object does not support item assignment",
     "output_type": "error",
     "traceback": [
      "\u001b[1;31m---------------------------------------------------------------------------\u001b[0m",
      "\u001b[1;31mTypeError\u001b[0m                                 Traceback (most recent call last)",
      "Cell \u001b[1;32mIn[12], line 4\u001b[0m\n\u001b[0;32m      2\u001b[0m \u001b[38;5;28mprint\u001b[39m(Tuple)\n\u001b[0;32m      3\u001b[0m \u001b[38;5;28mprint\u001b[39m(\u001b[38;5;28mtype\u001b[39m(Tuple))\n\u001b[1;32m----> 4\u001b[0m Tuple[\u001b[38;5;241m0\u001b[39m] \u001b[38;5;241m=\u001b[39m \u001b[38;5;241m2\u001b[39m\n",
      "\u001b[1;31mTypeError\u001b[0m: 'tuple' object does not support item assignment"
     ]
    }
   ],
   "source": [
    "Tuple =4,'str',6\n",
    "print(Tuple)\n",
    "print(type(Tuple)\n",
    "      "
   ]
  },
  {
   "cell_type": "code",
   "execution_count": 21,
   "id": "b65b4e13",
   "metadata": {},
   "outputs": [
    {
     "name": "stdout",
     "output_type": "stream",
     "text": [
      "[-1, 2, 'Pakistan']\n",
      "Pakistan\n",
      "[-1, 2, 'Pakistan']\n"
     ]
    }
   ],
   "source": [
    "lst = [1,2,\"Pakistan\"]\n",
    "lst[0] =-1\n",
    "print(lst)\n",
    "print(lst[-1])\n",
    "print(lst[0:])"
   ]
  },
  {
   "cell_type": "code",
   "execution_count": 37,
   "id": "620def44",
   "metadata": {},
   "outputs": [
    {
     "name": "stdout",
     "output_type": "stream",
     "text": [
      "Pakistan zindabad\n",
      "d\n",
      "P\n",
      "Pakistan zindabad\n",
      "Pakistan zindabad\n"
     ]
    }
   ],
   "source": [
    "sting = \"Pakistan zindabad\"\n",
    "print(sting)\n",
    "print(sting[-1])\n",
    "print(sting[0])\n",
    "print(sting[0:])\n",
    "print(sting[0:19])"
   ]
  },
  {
   "cell_type": "code",
   "execution_count": 44,
   "id": "6688aba2",
   "metadata": {},
   "outputs": [
    {
     "name": "stdout",
     "output_type": "stream",
     "text": [
      "0 Anwar\n",
      "1 Agha Burhan\n",
      "2 Agha Habib\n"
     ]
    }
   ],
   "source": [
    "dic= {0:\"Anwar\",1:\"Agha Burhan\",2: \"Agha Habib\"} # --->0,1,2\n",
    "#how to access elements\n",
    "#slicing can not be done by using indexing  \n",
    "for i in dic:                       # for loop use for iterating the elements.\n",
    "    print(i,dic[i])\n",
    "    "
   ]
  },
  {
   "cell_type": "code",
   "execution_count": 2,
   "id": "bdf61359",
   "metadata": {},
   "outputs": [
    {
     "name": "stdout",
     "output_type": "stream",
     "text": [
      "0 anwar\n",
      "1 agha burhan\n",
      "2 agha habib\n",
      "3 Pakistan Zindabad\n"
     ]
    }
   ],
   "source": [
    "dic={0:\"anwar\",1:\"agha burhan\",2:\"agha habib\",3:\"Pakistan Zindabad\"}\n",
    "for i in dic:\n",
    "    print(i,dic[i])\n",
    "\n",
    "    "
   ]
  },
  {
   "cell_type": "raw",
   "id": "da5c6574",
   "metadata": {},
   "source": [
    "dic={0:\"agha\",1:\"burhan\",2:\"durrani\"}\n",
    "for i in dic:\n",
    "    print(i,dic[i])\n",
    "    print(type(dic))"
   ]
  },
  {
   "cell_type": "code",
   "execution_count": 63,
   "id": "f37a47dc",
   "metadata": {},
   "outputs": [
    {
     "name": "stdout",
     "output_type": "stream",
     "text": [
      "Pakistan zindabad\n",
      "<class 'str'>\n",
      "agha \n",
      "agha burhan\n",
      "a\n"
     ]
    }
   ],
   "source": [
    "string=\"agha burhan\"\n",
    "print(sting)\n",
    "print(type(string))\n",
    "print(string[0:5])\n",
    "print(string[0:])\n",
    "print(string[-2])"
   ]
  },
  {
   "cell_type": "code",
   "execution_count": 12,
   "id": "1245d7c3",
   "metadata": {},
   "outputs": [
    {
     "name": "stdout",
     "output_type": "stream",
     "text": [
      "<class 'set'>\n",
      "33\n",
      "Burhan\n",
      "4\n",
      "5\n",
      "22\n",
      "anwar\n",
      "Pakistan\n"
     ]
    }
   ],
   "source": [
    "Set = {22,33,22,22,22,33,4,5,\"anwar\",\"Burhan\",\"Pakistan\"}\n",
    "print(type(Set))\n",
    "for i in Set:                       # for loop use for iterating the elements.\n",
    "    print(i)\n"
   ]
  },
  {
   "cell_type": "code",
   "execution_count": 5,
   "id": "022bfc23",
   "metadata": {},
   "outputs": [
    {
     "name": "stdout",
     "output_type": "stream",
     "text": [
      "<class 'dict'>\n"
     ]
    }
   ],
   "source": [
    "dic = {0:22,1:33,2:22,3:22,4:22,5:33,6:4,7:5,8:\"anwar\",9:\"Burhan\",10:\"Pakistan\"}\n",
    "print(type(dic))\n"
   ]
  },
  {
   "cell_type": "code",
   "execution_count": 17,
   "id": "fdbe88b6",
   "metadata": {},
   "outputs": [
    {
     "name": "stdout",
     "output_type": "stream",
     "text": [
      "<class 'set'>\n",
      "{1, 2, 3, 4}\n",
      "1\n",
      "2\n",
      "3\n",
      "4\n"
     ]
    }
   ],
   "source": [
    "Set = {1,1,1,1,2,2,2,2,3,4}\n",
    "print(type(Set))\n",
    "print(Set)\n",
    "for i in Set:\n",
    "    print(i)"
   ]
  },
  {
   "cell_type": "code",
   "execution_count": 9,
   "id": "3cd16447",
   "metadata": {},
   "outputs": [
    {
     "name": "stdout",
     "output_type": "stream",
     "text": [
      "<class 'dict'>\n",
      "{-11: 'anwar', 22: 'burhan', 33: 'canada'}\n",
      "-11 anwar\n",
      "22 burhan\n",
      "33 canada\n"
     ]
    }
   ],
   "source": [
    "dic = {-11:\"anwar\",22:\"burhan\",33:\"canada\"}\n",
    "print(type(dic))\n",
    "print(dic)\n",
    "for i in dic:\n",
    "    print(i,dic[i])"
   ]
  },
  {
   "cell_type": "code",
   "execution_count": 22,
   "id": "781ddb24",
   "metadata": {},
   "outputs": [
    {
     "name": "stdout",
     "output_type": "stream",
     "text": [
      "<class 'set'>\n",
      "{1, 2, 3, 'anwar'}\n",
      "1\n",
      "2\n",
      "3\n",
      "anwar\n"
     ]
    }
   ],
   "source": [
    "SET = {1,2,2,2,2,3,3,3,3,\"anwar\",\"anwar\"}\n",
    "print(type(SET))\n",
    "print(SET)\n",
    "for i in SET:\n",
    "    print(i)\n",
    "#set is a immutable data dtructrue "
   ]
  },
  {
   "cell_type": "code",
   "execution_count": 29,
   "id": "fbd8f65e",
   "metadata": {},
   "outputs": [
    {
     "name": "stdout",
     "output_type": "stream",
     "text": [
      "<class 'dict'>\n",
      "{-11: 'anwar', 22: 'Burhan', 33: 'pakistan'}\n",
      "-11 anwar\n",
      "22 Burhan\n",
      "33 pakistan\n"
     ]
    }
   ],
   "source": [
    "dic = {-11:\"anwar\",22:\"Burhan\",33:\"pakistan\"}\n",
    "print(type(dic))\n",
    "print(dic)\n",
    "for i in dic:\n",
    "    print(i,dic[i])"
   ]
  },
  {
   "cell_type": "code",
   "execution_count": null,
   "id": "8face578",
   "metadata": {},
   "outputs": [],
   "source": []
  }
 ],
 "metadata": {
  "kernelspec": {
   "display_name": "Python 3 (ipykernel)",
   "language": "python",
   "name": "python3"
  },
  "language_info": {
   "codemirror_mode": {
    "name": "ipython",
    "version": 3
   },
   "file_extension": ".py",
   "mimetype": "text/x-python",
   "name": "python",
   "nbconvert_exporter": "python",
   "pygments_lexer": "ipython3",
   "version": "3.11.5"
  }
 },
 "nbformat": 4,
 "nbformat_minor": 5
}
